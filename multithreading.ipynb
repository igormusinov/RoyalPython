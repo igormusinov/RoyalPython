{
 "cells": [
  {
   "cell_type": "markdown",
   "metadata": {},
   "source": [
    "# Multithreading for I/O-bound tasks"
   ]
  },
  {
   "cell_type": "code",
   "execution_count": null,
   "metadata": {},
   "outputs": [],
   "source": [
    "import logging\n",
    "import os\n",
    "from queue import Queue\n",
    "from threading import Thread\n",
    "from time import time\n",
    "\n",
    "from download import setup_download_dir, get_links, download_link\n",
    "\n",
    "\n",
    "logging.basicConfig(level=logging.INFO, format='%(asctime)s - %(name)s - %(levelname)s - %(message)s')\n",
    "\n",
    "logger = logging.getLogger(__name__)\n",
    "\n",
    "\n",
    "class DownloadWorker(Thread):\n",
    "\n",
    "    def __init__(self, queue):\n",
    "        Thread.__init__(self)\n",
    "        self.queue = queue\n",
    "\n",
    "    def run(self):\n",
    "        while True:\n",
    "            # Get the work from the queue and expand the tuple\n",
    "            directory, link = self.queue.get()\n",
    "            try:\n",
    "                download_link(directory, link)\n",
    "            finally:\n",
    "                self.queue.task_done()\n",
    "\n",
    "\n",
    "def main():\n",
    "    ts = time()\n",
    "    client_id = os.getenv('IMGUR_CLIENT_ID')\n",
    "    if not client_id:\n",
    "        raise Exception(\"Couldn't find IMGUR_CLIENT_ID environment variable!\")\n",
    "    download_dir = setup_download_dir()\n",
    "    links = get_links(client_id)\n",
    "    # Create a queue to communicate with the worker threads\n",
    "    queue = Queue()\n",
    "    # Create 8 worker threads\n",
    "    for x in range(8):\n",
    "        worker = DownloadWorker(queue)\n",
    "        # Setting daemon to True will let the main thread exit even though the workers are blocking\n",
    "        worker.daemon = True\n",
    "        worker.start()\n",
    "    # Put the tasks into the queue as a tuple\n",
    "    for link in links:\n",
    "        logger.info('Queueing {}'.format(link))\n",
    "        queue.put((download_dir, link))\n",
    "    # Causes the main thread to wait for the queue to finish processing all the tasks\n",
    "    queue.join()\n",
    "    logging.info('Took %s', time() - ts)\n",
    "\n",
    "if __name__ == '__main__':\n",
    "    main()"
   ]
  }
 ],
 "metadata": {
  "kernelspec": {
   "display_name": "Python 3",
   "language": "python",
   "name": "python3"
  },
  "language_info": {
   "codemirror_mode": {
    "name": "ipython",
    "version": 3
   },
   "file_extension": ".py",
   "mimetype": "text/x-python",
   "name": "python",
   "nbconvert_exporter": "python",
   "pygments_lexer": "ipython3",
   "version": "3.7.0"
  }
 },
 "nbformat": 4,
 "nbformat_minor": 4
}
